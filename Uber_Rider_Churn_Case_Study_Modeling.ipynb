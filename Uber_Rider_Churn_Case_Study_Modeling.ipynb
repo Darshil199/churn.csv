{
 "cells": [
  {
   "cell_type": "markdown",
   "metadata": {},
   "source": [
    "# Uber Rider Data Case Study"
   ]
  },
  {
   "cell_type": "markdown",
   "metadata": {},
   "source": [
    "##  Project Overview\n",
    "\n",
    "Uber is interested in predicting rider retention. To help explore this question, they have provided a sample dataset of a cohort of users.\n",
    "\n",
    "![Uber](./images/uber.jpg)"
   ]
  },
  {
   "cell_type": "markdown",
   "metadata": {},
   "source": [
    "## Dataset Description\n",
    "\n",
    "- city: city this user signed up in\n",
    "    - city_King's Landing: this user signed up in *King's Landing*\n",
    "    - city_Winterfell: this user signed up in *Winterfell*\n",
    "    - city_Astapor: this user signed up in *Astapor*\n",
    "- phone: primary device for this user\n",
    "    - phone_Android: primary device for this user is Android\n",
    "    - phone_iPhone: primary device for this user is iPhone\n",
    "    - phone_no_phone: primary device for this user is unknown\n",
    "- avg_dist: the average distance *(in miles) per trip taken in the first 30 days after signup \n",
    "- avg_rating_by_driver: the rider’s average rating over all of their trips \n",
    "- avg_rating_of_driver: the rider’s average rating of their drivers over all of their trips \n",
    "- surge_pct: the percent of trips taken with surge multiplier > 1\n",
    "- avg_surge: The average surge multiplier over all of this user’s trips \n",
    "- trips_in_first_30_days: the number of trips this user took in the first 30 days after signing up\n",
    "- luxury_car_user: True if the user took an luxury car in their first 30 days; False otherwise\n",
    "- weekday_pct: the percent of the user’s trips occurring during a weekday\n",
    "- churn: a user is regarded as churn if there is no trip made in last 30 days"
   ]
  },
  {
   "cell_type": "markdown",
   "metadata": {},
   "source": [
    "## Load data and browse data"
   ]
  },
  {
   "cell_type": "code",
   "execution_count": 1,
   "metadata": {
    "collapsed": true
   },
   "outputs": [],
   "source": [
    "import numpy as np\n",
    "import pandas as pd\n",
    "import matplotlib.pyplot as plt\n",
    "\n",
    "% matplotlib inline\n",
    "# Always make it pretty.\n",
    "plt.style.use('ggplot')"
   ]
  },
  {
   "cell_type": "code",
   "execution_count": 2,
   "metadata": {},
   "outputs": [],
   "source": [
    "# Load data from file\n",
    "df = pd.read_csv('data/churn.csv')"
   ]
  },
  {
   "cell_type": "code",
   "execution_count": 3,
   "metadata": {},
   "outputs": [
    {
     "name": "stdout",
     "output_type": "stream",
     "text": [
      "<class 'pandas.core.frame.DataFrame'>\n",
      "RangeIndex: 50000 entries, 0 to 49999\n",
      "Data columns (total 15 columns):\n",
      "avg_dist                  50000 non-null float64\n",
      "avg_rating_by_driver      50000 non-null float64\n",
      "avg_rating_of_driver      50000 non-null float64\n",
      "avg_surge                 50000 non-null float64\n",
      "surge_pct                 50000 non-null float64\n",
      "trips_in_first_30_days    50000 non-null int64\n",
      "luxury_car_user           50000 non-null int64\n",
      "weekday_pct               50000 non-null float64\n",
      "city_Astapor              50000 non-null float64\n",
      "city_King's Landing       50000 non-null float64\n",
      "city_Winterfell           50000 non-null float64\n",
      "phone_Android             50000 non-null float64\n",
      "phone_iPhone              50000 non-null float64\n",
      "phone_no_phone            50000 non-null float64\n",
      "churn                     50000 non-null int64\n",
      "dtypes: float64(12), int64(3)\n",
      "memory usage: 5.7 MB\n"
     ]
    }
   ],
   "source": [
    "# Browse dataset\n",
    "df.info()"
   ]
  },
  {
   "cell_type": "code",
   "execution_count": 4,
   "metadata": {
    "scrolled": true
   },
   "outputs": [
    {
     "data": {
      "text/html": [
       "<div>\n",
       "<table border=\"1\" class=\"dataframe\">\n",
       "  <thead>\n",
       "    <tr style=\"text-align: right;\">\n",
       "      <th></th>\n",
       "      <th>avg_dist</th>\n",
       "      <th>avg_rating_by_driver</th>\n",
       "      <th>avg_rating_of_driver</th>\n",
       "      <th>avg_surge</th>\n",
       "      <th>surge_pct</th>\n",
       "      <th>trips_in_first_30_days</th>\n",
       "      <th>luxury_car_user</th>\n",
       "      <th>weekday_pct</th>\n",
       "      <th>city_Astapor</th>\n",
       "      <th>city_King's Landing</th>\n",
       "      <th>city_Winterfell</th>\n",
       "      <th>phone_Android</th>\n",
       "      <th>phone_iPhone</th>\n",
       "      <th>phone_no_phone</th>\n",
       "      <th>churn</th>\n",
       "    </tr>\n",
       "  </thead>\n",
       "  <tbody>\n",
       "    <tr>\n",
       "      <th>count</th>\n",
       "      <td>50000.000000</td>\n",
       "      <td>50000.000000</td>\n",
       "      <td>50000.000000</td>\n",
       "      <td>50000.000000</td>\n",
       "      <td>50000.000000</td>\n",
       "      <td>50000.000000</td>\n",
       "      <td>50000.00000</td>\n",
       "      <td>50000.000000</td>\n",
       "      <td>50000.000000</td>\n",
       "      <td>50000.000000</td>\n",
       "      <td>50000.000000</td>\n",
       "      <td>50000.000000</td>\n",
       "      <td>50000.000000</td>\n",
       "      <td>50000.000000</td>\n",
       "      <td>50000.000000</td>\n",
       "    </tr>\n",
       "    <tr>\n",
       "      <th>mean</th>\n",
       "      <td>5.796827</td>\n",
       "      <td>4.779050</td>\n",
       "      <td>4.650038</td>\n",
       "      <td>1.074764</td>\n",
       "      <td>8.849536</td>\n",
       "      <td>2.278200</td>\n",
       "      <td>0.37708</td>\n",
       "      <td>60.926084</td>\n",
       "      <td>0.330680</td>\n",
       "      <td>0.202600</td>\n",
       "      <td>0.466720</td>\n",
       "      <td>0.300440</td>\n",
       "      <td>0.691640</td>\n",
       "      <td>0.007920</td>\n",
       "      <td>0.623920</td>\n",
       "    </tr>\n",
       "    <tr>\n",
       "      <th>std</th>\n",
       "      <td>5.707357</td>\n",
       "      <td>0.445974</td>\n",
       "      <td>0.575601</td>\n",
       "      <td>0.222336</td>\n",
       "      <td>19.958811</td>\n",
       "      <td>3.792684</td>\n",
       "      <td>0.48466</td>\n",
       "      <td>37.081503</td>\n",
       "      <td>0.470463</td>\n",
       "      <td>0.401941</td>\n",
       "      <td>0.498896</td>\n",
       "      <td>0.458454</td>\n",
       "      <td>0.461821</td>\n",
       "      <td>0.088642</td>\n",
       "      <td>0.484405</td>\n",
       "    </tr>\n",
       "    <tr>\n",
       "      <th>min</th>\n",
       "      <td>0.000000</td>\n",
       "      <td>1.000000</td>\n",
       "      <td>1.000000</td>\n",
       "      <td>1.000000</td>\n",
       "      <td>0.000000</td>\n",
       "      <td>0.000000</td>\n",
       "      <td>0.00000</td>\n",
       "      <td>0.000000</td>\n",
       "      <td>0.000000</td>\n",
       "      <td>0.000000</td>\n",
       "      <td>0.000000</td>\n",
       "      <td>0.000000</td>\n",
       "      <td>0.000000</td>\n",
       "      <td>0.000000</td>\n",
       "      <td>0.000000</td>\n",
       "    </tr>\n",
       "    <tr>\n",
       "      <th>25%</th>\n",
       "      <td>2.420000</td>\n",
       "      <td>4.700000</td>\n",
       "      <td>4.500000</td>\n",
       "      <td>1.000000</td>\n",
       "      <td>0.000000</td>\n",
       "      <td>0.000000</td>\n",
       "      <td>0.00000</td>\n",
       "      <td>33.300000</td>\n",
       "      <td>0.000000</td>\n",
       "      <td>0.000000</td>\n",
       "      <td>0.000000</td>\n",
       "      <td>0.000000</td>\n",
       "      <td>0.000000</td>\n",
       "      <td>0.000000</td>\n",
       "      <td>0.000000</td>\n",
       "    </tr>\n",
       "    <tr>\n",
       "      <th>50%</th>\n",
       "      <td>3.880000</td>\n",
       "      <td>5.000000</td>\n",
       "      <td>4.900000</td>\n",
       "      <td>1.000000</td>\n",
       "      <td>0.000000</td>\n",
       "      <td>1.000000</td>\n",
       "      <td>0.00000</td>\n",
       "      <td>66.700000</td>\n",
       "      <td>0.000000</td>\n",
       "      <td>0.000000</td>\n",
       "      <td>0.000000</td>\n",
       "      <td>0.000000</td>\n",
       "      <td>1.000000</td>\n",
       "      <td>0.000000</td>\n",
       "      <td>1.000000</td>\n",
       "    </tr>\n",
       "    <tr>\n",
       "      <th>75%</th>\n",
       "      <td>6.940000</td>\n",
       "      <td>5.000000</td>\n",
       "      <td>5.000000</td>\n",
       "      <td>1.050000</td>\n",
       "      <td>8.600000</td>\n",
       "      <td>3.000000</td>\n",
       "      <td>1.00000</td>\n",
       "      <td>100.000000</td>\n",
       "      <td>1.000000</td>\n",
       "      <td>0.000000</td>\n",
       "      <td>1.000000</td>\n",
       "      <td>1.000000</td>\n",
       "      <td>1.000000</td>\n",
       "      <td>0.000000</td>\n",
       "      <td>1.000000</td>\n",
       "    </tr>\n",
       "    <tr>\n",
       "      <th>max</th>\n",
       "      <td>160.960000</td>\n",
       "      <td>5.000000</td>\n",
       "      <td>5.000000</td>\n",
       "      <td>8.000000</td>\n",
       "      <td>100.000000</td>\n",
       "      <td>125.000000</td>\n",
       "      <td>1.00000</td>\n",
       "      <td>100.000000</td>\n",
       "      <td>1.000000</td>\n",
       "      <td>1.000000</td>\n",
       "      <td>1.000000</td>\n",
       "      <td>1.000000</td>\n",
       "      <td>1.000000</td>\n",
       "      <td>1.000000</td>\n",
       "      <td>1.000000</td>\n",
       "    </tr>\n",
       "  </tbody>\n",
       "</table>\n",
       "</div>"
      ],
      "text/plain": [
       "           avg_dist  avg_rating_by_driver  avg_rating_of_driver     avg_surge  \\\n",
       "count  50000.000000          50000.000000          50000.000000  50000.000000   \n",
       "mean       5.796827              4.779050              4.650038      1.074764   \n",
       "std        5.707357              0.445974              0.575601      0.222336   \n",
       "min        0.000000              1.000000              1.000000      1.000000   \n",
       "25%        2.420000              4.700000              4.500000      1.000000   \n",
       "50%        3.880000              5.000000              4.900000      1.000000   \n",
       "75%        6.940000              5.000000              5.000000      1.050000   \n",
       "max      160.960000              5.000000              5.000000      8.000000   \n",
       "\n",
       "          surge_pct  trips_in_first_30_days  luxury_car_user   weekday_pct  \\\n",
       "count  50000.000000            50000.000000      50000.00000  50000.000000   \n",
       "mean       8.849536                2.278200          0.37708     60.926084   \n",
       "std       19.958811                3.792684          0.48466     37.081503   \n",
       "min        0.000000                0.000000          0.00000      0.000000   \n",
       "25%        0.000000                0.000000          0.00000     33.300000   \n",
       "50%        0.000000                1.000000          0.00000     66.700000   \n",
       "75%        8.600000                3.000000          1.00000    100.000000   \n",
       "max      100.000000              125.000000          1.00000    100.000000   \n",
       "\n",
       "       city_Astapor  city_King's Landing  city_Winterfell  phone_Android  \\\n",
       "count  50000.000000         50000.000000     50000.000000   50000.000000   \n",
       "mean       0.330680             0.202600         0.466720       0.300440   \n",
       "std        0.470463             0.401941         0.498896       0.458454   \n",
       "min        0.000000             0.000000         0.000000       0.000000   \n",
       "25%        0.000000             0.000000         0.000000       0.000000   \n",
       "50%        0.000000             0.000000         0.000000       0.000000   \n",
       "75%        1.000000             0.000000         1.000000       1.000000   \n",
       "max        1.000000             1.000000         1.000000       1.000000   \n",
       "\n",
       "       phone_iPhone  phone_no_phone         churn  \n",
       "count  50000.000000    50000.000000  50000.000000  \n",
       "mean       0.691640        0.007920      0.623920  \n",
       "std        0.461821        0.088642      0.484405  \n",
       "min        0.000000        0.000000      0.000000  \n",
       "25%        0.000000        0.000000      0.000000  \n",
       "50%        1.000000        0.000000      1.000000  \n",
       "75%        1.000000        0.000000      1.000000  \n",
       "max        1.000000        1.000000      1.000000  "
      ]
     },
     "execution_count": 4,
     "metadata": {},
     "output_type": "execute_result"
    }
   ],
   "source": [
    "# Show summary stats\n",
    "df.describe()\n"
   ]
  },
  {
   "cell_type": "markdown",
   "metadata": {},
   "source": [
    "## Build Logistic Regression Model"
   ]
  },
  {
   "cell_type": "markdown",
   "metadata": {},
   "source": [
    "### Define Features and Target"
   ]
  },
  {
   "cell_type": "code",
   "execution_count": 5,
   "metadata": {
    "collapsed": true
   },
   "outputs": [],
   "source": [
    "selected_features = [u'avg_dist', u'avg_rating_by_driver', u'avg_rating_of_driver', u'avg_surge', \n",
    "                     u'surge_pct', u'trips_in_first_30_days', u'luxury_car_user', \n",
    "                     u'weekday_pct', u'city_Astapor', u'city_King\\'s Landing',u'city_Winterfell', \n",
    "                     u'phone_Android', u'phone_iPhone', u'phone_no_phone']\n",
    "target = u'churn'"
   ]
  },
  {
   "cell_type": "code",
   "execution_count": 6,
   "metadata": {},
   "outputs": [],
   "source": [
    "X = df[selected_features].values\n",
    "y = df['churn'].values"
   ]
  },
  {
   "cell_type": "code",
   "execution_count": 7,
   "metadata": {},
   "outputs": [
    {
     "data": {
      "text/plain": [
       "(50000, 14)"
      ]
     },
     "execution_count": 7,
     "metadata": {},
     "output_type": "execute_result"
    }
   ],
   "source": [
    "X.shape"
   ]
  },
  {
   "cell_type": "code",
   "execution_count": 8,
   "metadata": {},
   "outputs": [
    {
     "data": {
      "text/plain": [
       "array([0, 1, 1, ..., 1, 1, 1])"
      ]
     },
     "execution_count": 8,
     "metadata": {},
     "output_type": "execute_result"
    }
   ],
   "source": [
    "y"
   ]
  },
  {
   "cell_type": "markdown",
   "metadata": {},
   "source": [
    "### Fit a Logistic Regression model using sklearn"
   ]
  },
  {
   "cell_type": "markdown",
   "metadata": {},
   "source": [
    "#### Let's Train-test split the data!"
   ]
  },
  {
   "cell_type": "code",
   "execution_count": 52,
   "metadata": {},
   "outputs": [],
   "source": [
    "# import train test split function from sklearn\n",
    "from sklearn.cross_validation import train_test_split\n",
    "X_train, X_test, y_train, y_test = train_test_split(X, y, test_size=0.05, random_state=42)"
   ]
  },
  {
   "cell_type": "markdown",
   "metadata": {},
   "source": [
    "#### Now train the model"
   ]
  },
  {
   "cell_type": "code",
   "execution_count": 53,
   "metadata": {},
   "outputs": [],
   "source": [
    "# Import logistic regression from sklearn\n",
    "from sklearn.linear_model import LogisticRegression\n",
    "\n",
    "# Initialize model by providing parameters\n",
    "lr = LogisticRegression(C=100000, fit_intercept=True)\n",
    "\n",
    "# Fit a model by providing X and y from training set\n",
    "lr.fit(X_train, y_train)\n",
    "\n",
    "# Make prediction on the training data\n",
    "y_train_pred = lr.predict(X_train)\n",
    "\n",
    "# Make predictions on test data\n",
    "y_test_pred = lr.predict(X_test)"
   ]
  },
  {
   "cell_type": "markdown",
   "metadata": {},
   "source": [
    "### Calculate the metric scores for the model"
   ]
  },
  {
   "cell_type": "code",
   "execution_count": 54,
   "metadata": {
    "collapsed": true
   },
   "outputs": [],
   "source": [
    "# Import metrics functions from sklearn\n",
    "from sklearn.metrics import precision_score, accuracy_score, recall_score, f1_score, roc_auc_score"
   ]
  },
  {
   "cell_type": "code",
   "execution_count": 55,
   "metadata": {},
   "outputs": [],
   "source": [
    "# Helper method to print metric scores\n",
    "def print_results(y_true, y_pred):\n",
    "    print(\"Accuracy of the Logistic Regression is: {}\".format(accuracy_score(y_true, y_pred)))\n",
    "    print(\"Precision of the Logistic Regression is: {}\".format(precision_score(y_true, y_pred)))\n",
    "    print(\"Recall of the Logistic Regression is: {}\".format(recall_score(y_true, y_pred)))\n",
    "    print(\"f1-score of the Logistic Regression is: {}\".format(f1_score(y_true, y_pred)))"
   ]
  },
  {
   "cell_type": "code",
   "execution_count": 56,
   "metadata": {},
   "outputs": [
    {
     "name": "stdout",
     "output_type": "stream",
     "text": [
      "Training set scores:\n",
      "Accuracy of the Logistic Regression is: 0.719515789474\n",
      "Precision of the Logistic Regression is: 0.737406933457\n",
      "Recall of the Logistic Regression is: 0.855172181187\n",
      "f1-score of the Logistic Regression is: 0.791935408305\n"
     ]
    }
   ],
   "source": [
    "print(\"Training set scores:\")\n",
    "print_results(y_train, y_train_pred)"
   ]
  },
  {
   "cell_type": "code",
   "execution_count": 57,
   "metadata": {},
   "outputs": [
    {
     "name": "stdout",
     "output_type": "stream",
     "text": [
      "Test set scores:\n",
      "Accuracy of the Logistic Regression is: 0.7072\n",
      "Precision of the Logistic Regression is: 0.727780883175\n",
      "Recall of the Logistic Regression is: 0.841628959276\n",
      "f1-score of the Logistic Regression is: 0.780575539568\n"
     ]
    }
   ],
   "source": [
    "print(\"Test set scores:\")\n",
    "print_results(y_test, y_test_pred)"
   ]
  },
  {
   "cell_type": "markdown",
   "metadata": {},
   "source": [
    "### Understanding the Estimated Coefficients"
   ]
  },
  {
   "cell_type": "code",
   "execution_count": 58,
   "metadata": {},
   "outputs": [
    {
     "data": {
      "text/html": [
       "<div>\n",
       "<table border=\"1\" class=\"dataframe\">\n",
       "  <thead>\n",
       "    <tr style=\"text-align: right;\">\n",
       "      <th></th>\n",
       "      <th>feature</th>\n",
       "      <th>coeff</th>\n",
       "    </tr>\n",
       "  </thead>\n",
       "  <tbody>\n",
       "    <tr>\n",
       "      <th>8</th>\n",
       "      <td>city_Astapor</td>\n",
       "      <td>0.675604</td>\n",
       "    </tr>\n",
       "    <tr>\n",
       "      <th>11</th>\n",
       "      <td>phone_Android</td>\n",
       "      <td>0.429428</td>\n",
       "    </tr>\n",
       "    <tr>\n",
       "      <th>3</th>\n",
       "      <td>avg_surge</td>\n",
       "      <td>0.197389</td>\n",
       "    </tr>\n",
       "    <tr>\n",
       "      <th>10</th>\n",
       "      <td>city_Winterfell</td>\n",
       "      <td>0.160580</td>\n",
       "    </tr>\n",
       "    <tr>\n",
       "      <th>1</th>\n",
       "      <td>avg_rating_by_driver</td>\n",
       "      <td>0.146983</td>\n",
       "    </tr>\n",
       "    <tr>\n",
       "      <th>2</th>\n",
       "      <td>avg_rating_of_driver</td>\n",
       "      <td>0.121435</td>\n",
       "    </tr>\n",
       "    <tr>\n",
       "      <th>0</th>\n",
       "      <td>avg_dist</td>\n",
       "      <td>0.037133</td>\n",
       "    </tr>\n",
       "    <tr>\n",
       "      <th>13</th>\n",
       "      <td>phone_no_phone</td>\n",
       "      <td>0.004260</td>\n",
       "    </tr>\n",
       "    <tr>\n",
       "      <th>7</th>\n",
       "      <td>weekday_pct</td>\n",
       "      <td>0.000022</td>\n",
       "    </tr>\n",
       "    <tr>\n",
       "      <th>4</th>\n",
       "      <td>surge_pct</td>\n",
       "      <td>-0.004197</td>\n",
       "    </tr>\n",
       "    <tr>\n",
       "      <th>5</th>\n",
       "      <td>trips_in_first_30_days</td>\n",
       "      <td>-0.120131</td>\n",
       "    </tr>\n",
       "    <tr>\n",
       "      <th>12</th>\n",
       "      <td>phone_iPhone</td>\n",
       "      <td>-0.651837</td>\n",
       "    </tr>\n",
       "    <tr>\n",
       "      <th>6</th>\n",
       "      <td>luxury_car_user</td>\n",
       "      <td>-0.873832</td>\n",
       "    </tr>\n",
       "    <tr>\n",
       "      <th>9</th>\n",
       "      <td>city_King's Landing</td>\n",
       "      <td>-1.054332</td>\n",
       "    </tr>\n",
       "  </tbody>\n",
       "</table>\n",
       "</div>"
      ],
      "text/plain": [
       "                   feature     coeff\n",
       "8             city_Astapor  0.675604\n",
       "11           phone_Android  0.429428\n",
       "3                avg_surge  0.197389\n",
       "10         city_Winterfell  0.160580\n",
       "1     avg_rating_by_driver  0.146983\n",
       "2     avg_rating_of_driver  0.121435\n",
       "0                 avg_dist  0.037133\n",
       "13          phone_no_phone  0.004260\n",
       "7              weekday_pct  0.000022\n",
       "4                surge_pct -0.004197\n",
       "5   trips_in_first_30_days -0.120131\n",
       "12            phone_iPhone -0.651837\n",
       "6          luxury_car_user -0.873832\n",
       "9      city_King's Landing -1.054332"
      ]
     },
     "execution_count": 58,
     "metadata": {},
     "output_type": "execute_result"
    }
   ],
   "source": [
    "df_coeffs = pd.DataFrame(list(zip(selected_features, lr.coef_.flatten()))).sort_values(by=[1], ascending=False)\n",
    "df_coeffs.columns = ['feature', 'coeff']\n",
    "df_coeffs"
   ]
  },
  {
   "cell_type": "code",
   "execution_count": 59,
   "metadata": {},
   "outputs": [
    {
     "data": {
      "image/png": "[encoded data removed]",
      "text/plain": [
       "<matplotlib.figure.Figure at 0x11905fc90>"
      ]
     },
     "metadata": {},
     "output_type": "display_data"
    }
   ],
   "source": [
    "ax = df_coeffs.plot.barh()\n",
    "t = np.arange(X.shape[1])\n",
    "ax.set_yticks(t)\n",
    "ax.set_yticklabels(df_coeffs['feature'])\n",
    "plt.show()"
   ]
  },
  {
   "cell_type": "markdown",
   "metadata": {},
   "source": [
    "### How to interpret coefficient?"
   ]
  },
  {
   "cell_type": "markdown",
   "metadata": {},
   "source": [
    "***Recall: Increasing the value of $x_i$ by 1 increases the odds ratio by a factor of $e^{\\beta_i}$***"
   ]
  },
  {
   "cell_type": "markdown",
   "metadata": {},
   "source": [
    "Say, for a given user, assume he has a probability to churn at 50%, or in another word, the odd ratio is 1:1 = 1"
   ]
  },
  {
   "cell_type": "code",
   "execution_count": 60,
   "metadata": {},
   "outputs": [],
   "source": [
    "default_OR = 1 # 50% chance to churn"
   ]
  },
  {
   "cell_type": "markdown",
   "metadata": {},
   "source": [
    "If a coefficient is 0.2, then, if we increase the corresponding variable by 1 unit, the new odd ratio will be:"
   ]
  },
  {
   "cell_type": "code",
   "execution_count": 61,
   "metadata": {},
   "outputs": [
    {
     "data": {
      "text/plain": [
       "1.2214027581601699"
      ]
     },
     "execution_count": 61,
     "metadata": {},
     "output_type": "execute_result"
    }
   ],
   "source": [
    "beta = 0.2\n",
    "increase = np.exp(beta)\n",
    "OR = default_OR * increase\n",
    "OR"
   ]
  },
  {
   "cell_type": "markdown",
   "metadata": {},
   "source": [
    "Which is can be converted to chance to churn:"
   ]
  },
  {
   "cell_type": "code",
   "execution_count": 62,
   "metadata": {},
   "outputs": [
    {
     "data": {
      "text/plain": [
       "0.54983399731247795"
      ]
     },
     "execution_count": 62,
     "metadata": {},
     "output_type": "execute_result"
    }
   ],
   "source": [
    "p = OR / (1 + OR)\n",
    "p"
   ]
  },
  {
   "cell_type": "markdown",
   "metadata": {},
   "source": [
    "If a coefficient is -0.4, then, if we increase the corresponding variable by 1 unit, the new odd ratio will be:"
   ]
  },
  {
   "cell_type": "code",
   "execution_count": 63,
   "metadata": {},
   "outputs": [
    {
     "data": {
      "text/plain": [
       "0.67032004603563933"
      ]
     },
     "execution_count": 63,
     "metadata": {},
     "output_type": "execute_result"
    }
   ],
   "source": [
    "beta = -0.4\n",
    "increase = np.exp(beta) * 1\n",
    "OR = default_OR * increase\n",
    "OR"
   ]
  },
  {
   "cell_type": "markdown",
   "metadata": {},
   "source": [
    "Which is can be converted to chance to churn:"
   ]
  },
  {
   "cell_type": "code",
   "execution_count": 64,
   "metadata": {},
   "outputs": [
    {
     "data": {
      "text/plain": [
       "0.401312339887548"
      ]
     },
     "execution_count": 64,
     "metadata": {},
     "output_type": "execute_result"
    }
   ],
   "source": [
    "p = OR / (1 + OR)\n",
    "p"
   ]
  },
  {
   "cell_type": "markdown",
   "metadata": {},
   "source": [
    "### More Model Evaluation"
   ]
  },
  {
   "cell_type": "markdown",
   "metadata": {
    "collapsed": true
   },
   "source": [
    "#### Confusion Matrix"
   ]
  },
  {
   "cell_type": "code",
   "execution_count": 65,
   "metadata": {
    "collapsed": true
   },
   "outputs": [],
   "source": [
    "from sklearn.metrics import confusion_matrix, classification_report, roc_curve"
   ]
  },
  {
   "cell_type": "code",
   "execution_count": 66,
   "metadata": {},
   "outputs": [
    {
     "data": {
      "text/plain": [
       "array([[ 466,  487],\n",
       "       [ 245, 1302]])"
      ]
     },
     "execution_count": 66,
     "metadata": {},
     "output_type": "execute_result"
    }
   ],
   "source": [
    "confusion_matrix(y_test, y_test_pred)"
   ]
  },
  {
   "cell_type": "code",
   "execution_count": 67,
   "metadata": {
    "collapsed": true
   },
   "outputs": [],
   "source": [
    "# Helper method to plot confusion matrix\n",
    "def plot_confusion_matrix(y_true, y_pred):\n",
    "    '''\n",
    "    Code from sklearn example.\n",
    "    '''\n",
    "    \n",
    "    cm = confusion_matrix(y_true, y_pred)\n",
    "\n",
    "    print(cm)\n",
    "\n",
    "    # Show confusion matrix in a separate window\n",
    "    plt.matshow(cm)\n",
    "    plt.title('Confusion matrix')\n",
    "    plt.colorbar()\n",
    "    plt.ylabel('True label')\n",
    "    plt.xlabel('Predicted label')\n",
    "    plt.show()"
   ]
  },
  {
   "cell_type": "code",
   "execution_count": 68,
   "metadata": {},
   "outputs": [
    {
     "name": "stdout",
     "output_type": "stream",
     "text": [
      "[[ 8822  9029]\n",
      " [ 4294 25355]]\n"
     ]
    },
    {
     "data": {
      "image/png": "[encoded data removed]",
      "text/plain": [
       "<matplotlib.figure.Figure at 0x118ff3e50>"
      ]
     },
     "metadata": {},
     "output_type": "display_data"
    }
   ],
   "source": [
    "plot_confusion_matrix(y_train, y_train_pred)"
   ]
  },
  {
   "cell_type": "code",
   "execution_count": 69,
   "metadata": {},
   "outputs": [
    {
     "name": "stdout",
     "output_type": "stream",
     "text": [
      "[[ 466  487]\n",
      " [ 245 1302]]\n"
     ]
    },
    {
     "data": {
      "image/png": "[encoded data removed]",
      "text/plain": [
       "<matplotlib.figure.Figure at 0x118d2af50>"
      ]
     },
     "metadata": {},
     "output_type": "display_data"
    }
   ],
   "source": [
    "plot_confusion_matrix(y_test, y_test_pred)"
   ]
  },
  {
   "cell_type": "markdown",
   "metadata": {},
   "source": [
    "#### AUC"
   ]
  },
  {
   "cell_type": "code",
   "execution_count": 70,
   "metadata": {},
   "outputs": [
    {
     "name": "stdout",
     "output_type": "stream",
     "text": [
      "Area Under Curve (AUC) of the Logistic Regression is: 0.665305560435\n"
     ]
    }
   ],
   "source": [
    "print(\"Area Under Curve (AUC) of the Logistic Regression is: {}\".format(roc_auc_score(y_test, y_test_pred)))"
   ]
  },
  {
   "cell_type": "markdown",
   "metadata": {},
   "source": [
    "#### Classification report"
   ]
  },
  {
   "cell_type": "code",
   "execution_count": 71,
   "metadata": {},
   "outputs": [
    {
     "name": "stdout",
     "output_type": "stream",
     "text": [
      "             precision    recall  f1-score   support\n",
      "\n",
      "          0       0.66      0.49      0.56       953\n",
      "          1       0.73      0.84      0.78      1547\n",
      "\n",
      "avg / total       0.70      0.71      0.70      2500\n",
      "\n"
     ]
    }
   ],
   "source": [
    "print(classification_report(y_test, y_test_pred))"
   ]
  },
  {
   "cell_type": "markdown",
   "metadata": {},
   "source": [
    "#### Plot ROC curve"
   ]
  },
  {
   "cell_type": "code",
   "execution_count": 72,
   "metadata": {},
   "outputs": [
    {
     "data": {
      "text/plain": [
       "array([ 0.44388589,  0.63825708,  0.73151444, ...,  0.47223798,\n",
       "        0.74989331,  0.75751859])"
      ]
     },
     "execution_count": 72,
     "metadata": {},
     "output_type": "execute_result"
    }
   ],
   "source": [
    "# Make predictions of the probability to be \"positive\"/\"churn\"/\"1\", as compared to \"negative\"/\"not churn\"/\"0\"\n",
    "y_test_pred_proba = lr.predict_proba(X_test)[:,1]\n",
    "y_test_pred_proba"
   ]
  },
  {
   "cell_type": "code",
   "execution_count": 73,
   "metadata": {},
   "outputs": [
    {
     "data": {
      "text/plain": [
       "array([ 0.        ,  0.00104932,  0.00104932,  0.00209864,  0.00209864,\n",
       "        0.00314795,  0.00314795,  0.00419727,  0.00419727,  0.00524659,\n",
       "        0.00524659,  0.00629591,  0.00629591,  0.00734523,  0.00734523,\n",
       "        0.00839454,  0.00839454,  0.00944386,  0.00944386,  0.01049318,\n",
       "        0.01049318,  0.0115425 ,  0.0115425 ,  0.01259182,  0.01259182,\n",
       "        0.01364113,  0.01364113,  0.01469045,  0.01469045,  0.01678909,\n",
       "        0.01678909,  0.01783841,  0.01783841,  0.01888772,  0.01888772,\n",
       "        0.01993704,  0.01993704,  0.02098636,  0.02098636,  0.02203568,\n",
       "        0.02203568,  0.02308499,  0.02308499,  0.02623295,  0.02623295,\n",
       "        0.02728227,  0.02728227,  0.02833158,  0.02833158,  0.0293809 ,\n",
       "        0.0293809 ,  0.03043022,  0.03043022,  0.03147954,  0.03147954,\n",
       "        0.03252886,  0.03252886,  0.03357817,  0.03357817,  0.03462749,\n",
       "        0.03462749,  0.03567681,  0.03567681,  0.03672613,  0.03672613,\n",
       "        0.03777545,  0.03777545,  0.03882476,  0.03882476,  0.0409234 ,\n",
       "        0.0409234 ,  0.04197272,  0.04197272,  0.04302204,  0.04302204,\n",
       "        0.04512067,  0.04512067,  0.04616999,  0.04616999,  0.04721931,\n",
       "        0.04721931,  0.04826863,  0.04826863,  0.04931794,  0.04931794,\n",
       "        0.05036726,  0.05036726,  0.05141658,  0.05141658,  0.0524659 ,\n",
       "        0.0524659 ,  0.05456453,  0.05456453,  0.05561385,  0.05561385,\n",
       "        0.05666317,  0.05666317,  0.05771249,  0.05771249,  0.0587618 ,\n",
       "        0.0587618 ,  0.05981112,  0.05981112,  0.06190976,  0.06190976,\n",
       "        0.06295908,  0.06295908,  0.06400839,  0.06400839,  0.06505771,\n",
       "        0.06505771,  0.06610703,  0.06610703,  0.06715635,  0.06715635,\n",
       "        0.06820567,  0.06820567,  0.07135362,  0.07135362,  0.07240294,\n",
       "        0.07240294,  0.07345226,  0.07345226,  0.07450157,  0.07450157,\n",
       "        0.07555089,  0.07555089,  0.07764953,  0.07764953,  0.07869885,\n",
       "        0.07869885,  0.08079748,  0.08079748,  0.08394544,  0.08394544,\n",
       "        0.08499475,  0.08499475,  0.08604407,  0.08604407,  0.08709339,\n",
       "        0.08709339,  0.08814271,  0.08814271,  0.08919203,  0.08919203,\n",
       "        0.09024134,  0.09024134,  0.09129066,  0.09129066,  0.09233998,\n",
       "        0.09233998,  0.0933893 ,  0.0933893 ,  0.09443861,  0.09443861,\n",
       "        0.09653725,  0.09653725,  0.09863589,  0.09863589,  0.0996852 ,\n",
       "        0.0996852 ,  0.10178384,  0.10178384,  0.10283316,  0.10283316,\n",
       "        0.10388248,  0.10388248,  0.10493179,  0.10493179,  0.10598111,\n",
       "        0.10598111,  0.10807975,  0.10807975,  0.10912907,  0.10912907,\n",
       "        0.11017838,  0.11017838,  0.11227702,  0.11227702,  0.11332634,\n",
       "        0.11332634,  0.11437566,  0.11437566,  0.11647429,  0.11647429,\n",
       "        0.11752361,  0.11752361,  0.11962225,  0.11962225,  0.12067156,\n",
       "        0.12067156,  0.12172088,  0.12172088,  0.1227702 ,  0.1227702 ,\n",
       "        0.12381952,  0.12381952,  0.12591815,  0.12591815,  0.12696747,\n",
       "        0.12696747,  0.12801679,  0.12801679,  0.12906611,  0.12906611,\n",
       "        0.13011542,  0.13011542,  0.13221406,  0.13221406,  0.13326338,\n",
       "        0.13326338,  0.1343127 ,  0.1343127 ,  0.13850997,  0.13850997,\n",
       "        0.13955929,  0.13955929,  0.14165792,  0.14165792,  0.14270724,\n",
       "        0.14270724,  0.14375656,  0.14375656,  0.14480588,  0.14480588,\n",
       "        0.14690451,  0.14690451,  0.14795383,  0.14795383,  0.14900315,\n",
       "        0.14900315,  0.15110178,  0.15110178,  0.1521511 ,  0.1521511 ,\n",
       "        0.15424974,  0.15424974,  0.15529906,  0.15529906,  0.15634837,\n",
       "        0.15634837,  0.15739769,  0.15739769,  0.15844701,  0.15844701,\n",
       "        0.15949633,  0.15949633,  0.16159496,  0.16159496,  0.16264428,\n",
       "        0.16264428,  0.1636936 ,  0.1636936 ,  0.16474292,  0.16474292,\n",
       "        0.16579224,  0.16579224,  0.16684155,  0.16684155,  0.16789087,\n",
       "        0.16789087,  0.17103882,  0.17103882,  0.17208814,  0.17208814,\n",
       "        0.1752361 ,  0.1752361 ,  0.17838405,  0.17838405,  0.17943337,\n",
       "        0.17943337,  0.18048269,  0.18048269,  0.181532  ,  0.181532  ,\n",
       "        0.18258132,  0.18258132,  0.18363064,  0.18363064,  0.18467996,\n",
       "        0.18467996,  0.18677859,  0.18677859,  0.18887723,  0.18887723,\n",
       "        0.18992655,  0.18992655,  0.19097587,  0.19097587,  0.19202518,\n",
       "        0.19202518,  0.19412382,  0.19412382,  0.19622246,  0.19622246,\n",
       "        0.19832109,  0.19832109,  0.19937041,  0.19937041,  0.20041973,\n",
       "        0.20041973,  0.20146905,  0.20146905,  0.20251836,  0.20251836,\n",
       "        0.204617  ,  0.204617  ,  0.20566632,  0.20566632,  0.20671563,\n",
       "        0.20671563,  0.20776495,  0.20776495,  0.20881427,  0.20881427,\n",
       "        0.21196222,  0.21196222,  0.21301154,  0.21301154,  0.21406086,\n",
       "        0.21406086,  0.2161595 ,  0.2161595 ,  0.21720881,  0.21720881,\n",
       "        0.21825813,  0.21825813,  0.21930745,  0.21930745,  0.22035677,\n",
       "        0.22035677,  0.22140609,  0.22140609,  0.22350472,  0.22350472,\n",
       "        0.22455404,  0.22455404,  0.22560336,  0.22560336,  0.22665268,\n",
       "        0.22665268,  0.22770199,  0.22770199,  0.23189927,  0.23189927,\n",
       "        0.2339979 ,  0.2339979 ,  0.23504722,  0.23504722,  0.23609654,\n",
       "        0.23609654,  0.23714586,  0.23714586,  0.23819517,  0.23819517,\n",
       "        0.23924449,  0.23924449,  0.24029381,  0.24029381,  0.24134313,\n",
       "        0.24134313,  0.24449108,  0.24449108,  0.2455404 ,  0.2455404 ,\n",
       "        0.24658972,  0.24658972,  0.25183631,  0.25183631,  0.25288562,\n",
       "        0.25288562,  0.25393494,  0.25393494,  0.25603358,  0.25603358,\n",
       "        0.25918153,  0.25918153,  0.26023085,  0.26023085,  0.26128017,\n",
       "        0.26128017,  0.2633788 ,  0.2633788 ,  0.26442812,  0.26442812,\n",
       "        0.26652676,  0.26652676,  0.26757608,  0.26757608,  0.26862539,\n",
       "        0.26862539,  0.26967471,  0.26967471,  0.27072403,  0.27072403,\n",
       "        0.27282267,  0.27282267,  0.27597062,  0.27597062,  0.27701994,\n",
       "        0.27701994,  0.27806925,  0.27806925,  0.27911857,  0.27911857,\n",
       "        0.28331584,  0.28331584,  0.28541448,  0.28541448,  0.2864638 ,\n",
       "        0.2864638 ,  0.29066107,  0.29066107,  0.29171039,  0.29171039,\n",
       "        0.29275971,  0.29275971,  0.29380902,  0.29380902,  0.29695698,\n",
       "        0.29695698,  0.29905561,  0.29905561,  0.30010493,  0.30010493,\n",
       "        0.30010493,  0.30010493,  0.30115425,  0.30115425,  0.30220357,\n",
       "        0.30220357,  0.30325289,  0.30325289,  0.3043022 ,  0.3043022 ,\n",
       "        0.30849948,  0.30849948,  0.30954879,  0.30954879,  0.31059811,\n",
       "        0.31059811,  0.31164743,  0.31164743,  0.31269675,  0.31269675,\n",
       "        0.31374607,  0.31374607,  0.31479538,  0.31479538,  0.3158447 ,\n",
       "        0.3158447 ,  0.31689402,  0.31689402,  0.31794334,  0.31794334,\n",
       "        0.31899265,  0.31899265,  0.32004197,  0.32004197,  0.32109129,\n",
       "        0.32109129,  0.32214061,  0.32214061,  0.32528856,  0.32528856,\n",
       "        0.32843652,  0.32843652,  0.32948583,  0.32948583,  0.33158447,\n",
       "        0.33158447,  0.33263379,  0.33263379,  0.33368311,  0.33368311,\n",
       "        0.33473242,  0.33473242,  0.33683106,  0.33683106,  0.33788038,\n",
       "        0.33788038,  0.34312697,  0.34312697,  0.34417629,  0.34417629,\n",
       "        0.34732424,  0.34732424,  0.34837356,  0.34837356,  0.34942288,\n",
       "        0.34942288,  0.35257083,  0.35257083,  0.35362015,  0.35362015,\n",
       "        0.35466946,  0.35466946,  0.35571878,  0.35571878,  0.3567681 ,\n",
       "        0.3567681 ,  0.35886674,  0.35886674,  0.36201469,  0.36201469,\n",
       "        0.36306401,  0.36306401,  0.36411333,  0.36411333,  0.36516264,\n",
       "        0.36516264,  0.3683106 ,  0.3683106 ,  0.37040923,  0.37040923,\n",
       "        0.37250787,  0.37250787,  0.3798531 ,  0.3798531 ,  0.38090241,\n",
       "        0.38090241,  0.38195173,  0.38195173,  0.38300105,  0.38300105,\n",
       "        0.38405037,  0.38405037,  0.38509969,  0.38509969,  0.386149  ,\n",
       "        0.386149  ,  0.38824764,  0.38824764,  0.39244491,  0.39244491,\n",
       "        0.39349423,  0.39349423,  0.39664218,  0.39664218,  0.39979014,\n",
       "        0.39979014,  0.40398741,  0.40398741,  0.40608604,  0.40608604,\n",
       "        0.40713536,  0.40713536,  0.41028332,  0.41028332,  0.41133263,\n",
       "        0.41133263,  0.41343127,  0.41343127,  0.41448059,  0.41448059,\n",
       "        0.41552991,  0.41552991,  0.41657922,  0.41657922,  0.41762854,\n",
       "        0.41762854,  0.41867786,  0.41867786,  0.4207765 ,  0.4207765 ,\n",
       "        0.42497377,  0.42497377,  0.4270724 ,  0.4270724 ,  0.42812172,\n",
       "        0.42812172,  0.43231899,  0.43231899,  0.43441763,  0.43441763,\n",
       "        0.43651626,  0.43651626,  0.43756558,  0.43756558,  0.4386149 ,\n",
       "        0.4386149 ,  0.43966422,  0.43966422,  0.44491081,  0.44491081,\n",
       "        0.44596013,  0.44596013,  0.4501574 ,  0.4501574 ,  0.45435467,\n",
       "        0.45435467,  0.45540399,  0.45540399,  0.45645331,  0.45645331,\n",
       "        0.46379853,  0.46379853,  0.46484785,  0.46484785,  0.46904512,\n",
       "        0.46904512,  0.47009444,  0.47009444,  0.47429171,  0.47429171,\n",
       "        0.47534103,  0.47534103,  0.47639035,  0.47639035,  0.47743966,\n",
       "        0.47743966,  0.48163694,  0.48163694,  0.48373557,  0.48373557,\n",
       "        0.48478489,  0.48478489,  0.48688353,  0.48688353,  0.4910808 ,\n",
       "        0.4910808 ,  0.49422875,  0.49422875,  0.49632739,  0.49632739,\n",
       "        0.49737671,  0.49737671,  0.49842602,  0.49842602,  0.50052466,\n",
       "        0.50052466,  0.50367261,  0.50367261,  0.50472193,  0.50472193,\n",
       "        0.50682057,  0.50682057,  0.50786988,  0.50786988,  0.51416579,\n",
       "        0.51416579,  0.51521511,  0.51521511,  0.5204617 ,  0.5204617 ,\n",
       "        0.52570829,  0.52570829,  0.52885624,  0.52885624,  0.52990556,\n",
       "        0.52990556,  0.53305352,  0.53305352,  0.53620147,  0.53620147,\n",
       "        0.53725079,  0.53725079,  0.5383001 ,  0.5383001 ,  0.53934942,\n",
       "        0.53934942,  0.54249738,  0.54249738,  0.54354669,  0.54354669,\n",
       "        0.54459601,  0.54459601,  0.54564533,  0.54564533,  0.54774397,\n",
       "        0.54774397,  0.54879328,  0.54879328,  0.55089192,  0.55089192,\n",
       "        0.55194124,  0.55194124,  0.55403987,  0.55403987,  0.55508919,\n",
       "        0.55508919,  0.55718783,  0.55718783,  0.55823715,  0.55823715,\n",
       "        0.5613851 ,  0.5613851 ,  0.56243442,  0.56243442,  0.56348374,\n",
       "        0.56348374,  0.56453305,  0.56453305,  0.56768101,  0.56768101,\n",
       "        0.57187828,  0.57187828,  0.5729276 ,  0.5729276 ,  0.57397692,\n",
       "        0.57397692,  0.5792235 ,  0.5792235 ,  0.58027282,  0.58027282,\n",
       "        0.58342078,  0.58342078,  0.58447009,  0.58447009,  0.58551941,\n",
       "        0.58551941,  0.58656873,  0.58656873,  0.58761805,  0.58761805,\n",
       "        0.590766  ,  0.590766  ,  0.59496327,  0.59496327,  0.59916055,\n",
       "        0.59916055,  0.60020986,  0.60020986,  0.6023085 ,  0.6023085 ,\n",
       "        0.60545645,  0.60545645,  0.60755509,  0.60755509,  0.61175236,\n",
       "        0.61175236,  0.61280168,  0.61280168,  0.613851  ,  0.613851  ,\n",
       "        0.61594963,  0.61594963,  0.61699895,  0.61699895,  0.61804827,\n",
       "        0.61804827,  0.61909759,  0.61909759,  0.6201469 ,  0.6201469 ,\n",
       "        0.62224554,  0.62224554,  0.62539349,  0.62539349,  0.62854145,\n",
       "        0.62854145,  0.62959077,  0.62959077,  0.6316894 ,  0.6316894 ,\n",
       "        0.63588667,  0.63588667,  0.6432319 ,  0.6432319 ,  0.64533054,\n",
       "        0.64533054,  0.64847849,  0.64847849,  0.64952781,  0.64952781,\n",
       "        0.65057712,  0.65057712,  0.6547744 ,  0.6547744 ,  0.6610703 ,\n",
       "        0.6610703 ,  0.66736621,  0.66736621,  0.66946485,  0.66946485,\n",
       "        0.67995803,  0.67995803,  0.68205666,  0.68205666,  0.68625393,\n",
       "        0.68625393,  0.68730325,  0.68730325,  0.68940189,  0.68940189,\n",
       "        0.69150052,  0.69150052,  0.69254984,  0.69254984,  0.69464848,\n",
       "        0.69464848,  0.6956978 ,  0.6956978 ,  0.70514166,  0.70514166,\n",
       "        0.7135362 ,  0.7135362 ,  0.71458552,  0.71458552,  0.71668416,\n",
       "        0.71668416,  0.71773347,  0.71773347,  0.72088143,  0.72088143,\n",
       "        0.72193075,  0.72193075,  0.7366212 ,  0.7366212 ,  0.73976915,\n",
       "        0.73976915,  0.74501574,  0.74501574,  0.74606506,  0.74606506,\n",
       "        0.74711438,  0.74711438,  0.74921301,  0.74921301,  0.75131165,\n",
       "        0.75131165,  0.75655824,  0.75655824,  0.76285414,  0.76285414,\n",
       "        0.76810073,  0.76810073,  0.76915005,  0.76915005,  0.77019937,\n",
       "        0.77019937,  0.77649528,  0.77649528,  0.78488982,  0.78488982,\n",
       "        0.78593914,  0.78593914,  0.78803778,  0.78803778,  0.79013641,\n",
       "        0.79013641,  0.79118573,  0.79118573,  0.79328437,  0.79328437,\n",
       "        0.795383  ,  0.795383  ,  0.79643232,  0.79643232,  0.79853095,\n",
       "        0.79853095,  0.80482686,  0.80482686,  0.8069255 ,  0.8069255 ,\n",
       "        0.81741868,  0.81741868,  0.82161595,  0.82161595,  0.8247639 ,\n",
       "        0.8247639 ,  0.82896118,  0.82896118,  0.83420776,  0.83420776,\n",
       "        0.83525708,  0.83525708,  0.8363064 ,  0.8363064 ,  0.83840504,\n",
       "        0.83840504,  0.84050367,  0.84050367,  0.84260231,  0.84260231,\n",
       "        0.84365163,  0.84365163,  0.84679958,  0.84679958,  0.85519412,\n",
       "        0.85519412,  0.86044071,  0.86044071,  0.86253935,  0.86253935,\n",
       "        0.86463799,  0.86463799,  0.87618048,  0.87618048,  0.87932844,\n",
       "        0.87932844,  0.88037775,  0.88037775,  0.88142707,  0.88142707,\n",
       "        0.88772298,  0.88772298,  0.90451207,  0.90451207,  0.90975866,\n",
       "        0.90975866,  0.91185729,  0.91185729,  0.91920252,  0.91920252,\n",
       "        0.92025184,  0.92025184,  0.92235047,  0.92235047,  0.92549843,\n",
       "        0.92549843,  0.92654774,  0.92654774,  0.93074502,  0.93074502,\n",
       "        0.93284365,  0.93284365,  0.94333683,  0.94333683,  0.94858342,\n",
       "        0.94858342,  0.95487933,  0.95487933,  0.95592865,  0.95592865,\n",
       "        0.9590766 ,  0.9590766 ,  0.96432319,  0.96432319,  0.96956978,\n",
       "        0.96956978,  0.97166842,  0.97166842,  0.97481637,  0.97481637,\n",
       "        0.9884575 ,  0.9884575 ,  0.99475341,  0.99475341,  1.        ])"
      ]
     },
     "execution_count": 73,
     "metadata": {},
     "output_type": "execute_result"
    }
   ],
   "source": [
    "fpr, tpr, thresholds = roc_curve(y_test, y_test_pred_proba)\n",
    "fpr"
   ]
  },
  {
   "cell_type": "code",
   "execution_count": 74,
   "metadata": {},
   "outputs": [
    {
     "data": {
      "image/png": "[encoded data removed]",
      "text/plain": [
       "<matplotlib.figure.Figure at 0x11495d750>"
      ]
     },
     "metadata": {},
     "output_type": "display_data"
    }
   ],
   "source": [
    "# plot TPR against FPR\n",
    "plt.plot(fpr, tpr, color='red')\n",
    "\n",
    "# plot 45 degree line\n",
    "xx = np.linspace(0, 1.0, 20)\n",
    "plt.plot(xx, xx, color='blue')\n",
    "\n",
    "plt.xlabel(\"False Positive Rate\")\n",
    "plt.ylabel(\"True Positive Rate\")\n",
    "plt.title(\"ROC\")\n",
    "\n",
    "plt.show()"
   ]
  },
  {
   "cell_type": "markdown",
   "metadata": {
    "collapsed": true
   },
   "source": [
    "## Cost-benefit Analysis - Profit Curve"
   ]
  },
  {
   "cell_type": "markdown",
   "metadata": {},
   "source": [
    "#### Uber uses sign up coupon to attract new riders\n",
    "\n",
    "![Signup Coupon](./images/uber_20_off_first_ride_coupon.png)\n",
    "\n",
    "#### Uber also gives coupon to retain likely churning riders\n",
    "\n",
    "![retention Coupon](./images/uber_10_off_coupon.png)"
   ]
  },
  {
   "cell_type": "markdown",
   "metadata": {},
   "source": [
    "### Q: How do we leverage our Logistic Regression model with business value?\n",
    "### A: Cost-benefit Analysis"
   ]
  },
  {
   "cell_type": "markdown",
   "metadata": {},
   "source": [
    "#### Confusion matrix\n",
    "\n",
    "|               |   Actual Yes   |   Actual No    |\n",
    "| ------------- |:--------------:|:--------------:|\n",
    "| Predicted Yes | True positive  | False positive |\n",
    "| Predicted No  | False negative | True negative  |\n",
    "\n",
    "#### Let's define our cost-benefit matrix\n",
    "\n",
    "|               |   Actual Yes   |   Actual No    |\n",
    "| ------------- |:--------------:|:--------------:|\n",
    "| Predicted Yes |    gain 10     |    lose 10     |\n",
    "| Predicted No  |     lose 5     |       0        |\n"
   ]
  },
  {
   "cell_type": "markdown",
   "metadata": {},
   "source": [
    "#### Define cost-benefit matrix based on business input"
   ]
  },
  {
   "cell_type": "code",
   "execution_count": 87,
   "metadata": {},
   "outputs": [],
   "source": [
    "costbenefit = np.array([[10,-10],\n",
    "                        [5,0]]) # I am a numpy array, Fill Me In! \n"
   ]
  },
  {
   "cell_type": "code",
   "execution_count": 100,
   "metadata": {
    "collapsed": true
   },
   "outputs": [],
   "source": [
    "from sklearn.metrics import confusion_matrix\n",
    "\n",
    "def standard_confusion_matrix(y_true, y_predict):\n",
    "    \"\"\"Given y and predicted y, generate standard orientation\n",
    "    \n",
    "    Args:\n",
    "    =====\n",
    "    numpy array: y_true - array of true label\n",
    "    numpy array: y_predict - array of predicted label\n",
    "    \n",
    "    Return:\n",
    "    ======:\n",
    "    numpy array: confusion matrix, 2x2 numpy array\n",
    "    \"\"\"\n",
    "    [[tn,fp],[fn,tp]] = confusion_matrix(y_true, y_predict)\n",
    "    return np.array([[tp, fp], [fn, tn]])\n",
    "\n",
    "def profit_curve(cost_benefit_matrix, probabilities, y_true):\n",
    "    \"\"\"Given cost-benefit matrix, predicted probability, \n",
    "    and true label, calculate expected profit associated with \n",
    "    each threshold.\n",
    "    \n",
    "    Args:\n",
    "    =====\n",
    "    numpy array: cost_benefit_matrix, 2x2 array\n",
    "    numpy array: probabilities - array of predicted probabilities\n",
    "    numpy array: y_true - array of true label\n",
    "    \n",
    "    Return:\n",
    "    ======:\n",
    "    numpy array: threshold\n",
    "    numpy array: profit\n",
    "    \"\"\"\n",
    "    \n",
    "    thresholds= sorted(probabilities, reverse = True)\n",
    "    profits= []\n",
    "    for threshold in thresholds:\n",
    "        y_predict = probabilities > threshold\n",
    "        confusion_mat = standard_confusion_matrix(y_true, y_predict)\n",
    "        profits.append(np.sum(confusion_mat * cost_benefit_matrix)/float(len(y_true)))\n",
    "    return thresholds, profits\n",
    "\n",
    "def plot_profit_model(profits, label=\"Logistic Regression\"):\n",
    "    \"\"\"Plot profits against pertentage of test instance\n",
    "    \"\"\"\n",
    "    percentages = np.linspace(0, 100, len(profits))\n",
    "    plt.plot(percentages, profits, label=label)\n",
    "    plt.title(\"Profit Curve\")\n",
    "    plt.xlabel(\"Percentage of test instances (decreasing by score)\")\n",
    "    plt.ylabel(\"Profit\")\n",
    "    plt.legend(loc='best')\n",
    "    plt.savefig('profit_curve.png')\n",
    "    plt.show()\n",
    "    \n",
    "def find_best_threshold(thresholds, profits):\n",
    "    \"\"\"Find the best threshold that gives max profit\n",
    "    \n",
    "    Args:\n",
    "    =====\n",
    "    numpy array: thresholds - array of sorted threshold\n",
    "    numpy array: profits - array of profits\n",
    "    \n",
    "    Return:\n",
    "    ======:\n",
    "    float: threshold that corresponds to max profit\n",
    "    float: max profit\n",
    "    \"\"\"\n",
    "    max_profits_ind = np.argmax(profits)\n",
    "    max_thresholds = thresholds[max_profits_ind]\n",
    "    max_profits = np.max(profits)\n",
    "    return max_profits, max_thresholds"
   ]
  },
  {
   "cell_type": "markdown",
   "metadata": {},
   "source": [
    "#### Train a model"
   ]
  },
  {
   "cell_type": "code",
   "execution_count": 89,
   "metadata": {},
   "outputs": [
    {
     "data": {
      "text/plain": [
       "LogisticRegression(C=0.1, class_weight=None, dual=False, fit_intercept=True,\n",
       "          intercept_scaling=1, max_iter=100, multi_class='ovr', n_jobs=1,\n",
       "          penalty='l2', random_state=None, solver='liblinear', tol=0.0001,\n",
       "          verbose=0, warm_start=False)"
      ]
     },
     "execution_count": 89,
     "metadata": {},
     "output_type": "execute_result"
    }
   ],
   "source": [
    "lr = LogisticRegression(C=0.1, fit_intercept=True)\n",
    "lr.fit(X_train, y_train)"
   ]
  },
  {
   "cell_type": "code",
   "execution_count": 90,
   "metadata": {},
   "outputs": [
    {
     "name": "stdout",
     "output_type": "stream",
     "text": [
      "Training score:\n",
      "             precision    recall  f1-score   support\n",
      "\n",
      "          0       0.67      0.49      0.57     17851\n",
      "          1       0.74      0.86      0.79     29649\n",
      "\n",
      "avg / total       0.71      0.72      0.71     47500\n",
      "\n"
     ]
    }
   ],
   "source": [
    "# Make prediction on training data\n",
    "y_train_pred = lr.predict(X_train)\n",
    "print(\"Training score:\")\n",
    "print(classification_report(y_train, y_train_pred))"
   ]
  },
  {
   "cell_type": "code",
   "execution_count": 91,
   "metadata": {},
   "outputs": [
    {
     "name": "stdout",
     "output_type": "stream",
     "text": [
      "Test score:\n",
      "             precision    recall  f1-score   support\n",
      "\n",
      "          0       0.65      0.49      0.56       953\n",
      "          1       0.73      0.84      0.78      1547\n",
      "\n",
      "avg / total       0.70      0.71      0.70      2500\n",
      "\n"
     ]
    }
   ],
   "source": [
    "# Make predictions on test data\n",
    "y_test_pred = lr.predict(X_test)\n",
    "print(\"Test score:\")\n",
    "print(classification_report(y_test, y_test_pred))"
   ]
  },
  {
   "cell_type": "markdown",
   "metadata": {},
   "source": [
    "#### Plot profit curve "
   ]
  },
  {
   "cell_type": "code",
   "execution_count": 101,
   "metadata": {},
   "outputs": [],
   "source": [
    "# Make prediction on the probabilities\n",
    "probabilities = lr.predict_proba(X_test)[:, 1]\n",
    "\n",
    "# Calculate expected profits corresponding to different threshold\n",
    "thresholds, profits = profit_curve(costbenefit, probabilities, y_test)\n"
   ]
  },
  {
   "cell_type": "code",
   "execution_count": 103,
   "metadata": {},
   "outputs": [
    {
     "data": {
      "image/png": "[encoded data removed]",
      "text/plain": [
       "<matplotlib.figure.Figure at 0x118f9ef90>"
      ]
     },
     "metadata": {},
     "output_type": "display_data"
    }
   ],
   "source": [
    "# Plot!\n",
    "plot_profit_model(profits, label=\"Logistic Regression\")"
   ]
  },
  {
   "cell_type": "code",
   "execution_count": 84,
   "metadata": {},
   "outputs": [],
   "source": [
    " max_profit, max_threshold = find_best_threshold(thresholds, profits)"
   ]
  },
  {
   "cell_type": "markdown",
   "metadata": {},
   "source": [
    "#### Find the best threshold"
   ]
  },
  {
   "cell_type": "code",
   "execution_count": 85,
   "metadata": {},
   "outputs": [
    {
     "name": "stdout",
     "output_type": "stream",
     "text": [
      "The best threshold is 0.656794415802, which gives a max profit of 4.104\n"
     ]
    }
   ],
   "source": [
    "print(\"The best threshold is {}, which gives a max profit of {}\".format(max_threshold, max_profit))"
   ]
  },
  {
   "cell_type": "markdown",
   "metadata": {},
   "source": [
    "#### Make predictions with chosen threshold"
   ]
  },
  {
   "cell_type": "code",
   "execution_count": 86,
   "metadata": {},
   "outputs": [
    {
     "name": "stdout",
     "output_type": "stream",
     "text": [
      "             precision    recall  f1-score   support\n",
      "\n",
      "          0       0.56      0.74      0.64       953\n",
      "          1       0.80      0.65      0.72      1547\n",
      "\n",
      "avg / total       0.71      0.68      0.69      2500\n",
      "\n"
     ]
    }
   ],
   "source": [
    "y_test_pred = (lr.predict_proba(X_test)[:,1] >= max_threshold).astype(int)\n",
    "print(classification_report(y_test, y_test_pred))"
   ]
  },
  {
   "cell_type": "code",
   "execution_count": null,
   "metadata": {
    "collapsed": true
   },
   "outputs": [],
   "source": []
  }
 ],
 "metadata": {
  "anaconda-cloud": {},
  "kernelspec": {
   "display_name": "Python 2",
   "language": "python",
   "name": "python2"
  },
  "language_info": {
   "codemirror_mode": {
    "name": "ipython",
    "version": 2
   },
   "file_extension": ".py",
   "mimetype": "text/x-python",
   "name": "python",
   "nbconvert_exporter": "python",
   "pygments_lexer": "ipython2",
   "version": "2.7.13"
  }
 },
 "nbformat": 4,
 "nbformat_minor": 1
}
